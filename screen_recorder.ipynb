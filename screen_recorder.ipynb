{
 "cells": [
  {
   "cell_type": "code",
   "execution_count": 2,
   "metadata": {},
   "outputs": [],
   "source": [
    "import cv2\n",
    "import numpy as np\n",
    "import pyautogui\n",
    "import keyboard\n",
    "\n"
   ]
  },
  {
   "cell_type": "code",
   "execution_count": null,
   "metadata": {},
   "outputs": [],
   "source": []
  },
  {
   "cell_type": "code",
   "execution_count": 4,
   "metadata": {},
   "outputs": [
    {
     "name": "stdout",
     "output_type": "stream",
     "text": [
      "Recording... Press 'q' to stop.\n",
      "Recording stopped.\n",
      "Video saved to screen_recording_clcoding.mp4\n"
     ]
    }
   ],
   "source": [
    "screen_size = pyautogui.size()\n",
    "fps = 20\n",
    "fourcc = cv2.VideoWriter_fourcc(*\"XVID\")\n",
    "output_file = \"screen_recording_clcoding.mp4\"\n",
    "out= cv2.VideoWriter(output_file, fourcc, fps,\n",
    "(screen_size.width, screen_size.height))\n",
    "print(\"Recording... Press 'q' to stop.\")\n",
    "while True:\n",
    "    screen = pyautogui.screenshot()\n",
    "    frame = np.array(screen)\n",
    "    frame = cv2.cvtColor(frame, cv2.COLOR_RGB2BGR)\n",
    "    out.write(frame)\n",
    "    if keyboard.is_pressed('q'):\n",
    "        print(\"Recording stopped.\")\n",
    "        break\n",
    "out.release()\n",
    "print(f\"Video saved to {output_file}\")"
   ]
  }
 ],
 "metadata": {
  "kernelspec": {
   "display_name": "base",
   "language": "python",
   "name": "python3"
  },
  "language_info": {
   "codemirror_mode": {
    "name": "ipython",
    "version": 3
   },
   "file_extension": ".py",
   "mimetype": "text/x-python",
   "name": "python",
   "nbconvert_exporter": "python",
   "pygments_lexer": "ipython3",
   "version": "3.12.7"
  }
 },
 "nbformat": 4,
 "nbformat_minor": 2
}
